{
 "cells": [
  {
   "cell_type": "code",
   "execution_count": 1,
   "metadata": {},
   "outputs": [
    {
     "name": "stderr",
     "output_type": "stream",
     "text": [
      "Using TensorFlow backend.\n"
     ]
    }
   ],
   "source": [
    "%matplotlib inline\n",
    "import numpy as np\n",
    "import matplotlib.pyplot as plt\n",
    "from keras.datasets import mnist\n",
    "from keras.utils import to_categorical\n",
    "from keras import models, layers\n",
    "from sklearn.metrics import confusion_matrix"
   ]
  },
  {
   "cell_type": "code",
   "execution_count": 2,
   "metadata": {},
   "outputs": [],
   "source": [
    "(X_train, Y_train), (X_test, Y_test) = mnist.load_data()"
   ]
  },
  {
   "cell_type": "code",
   "execution_count": 3,
   "metadata": {},
   "outputs": [
    {
     "name": "stdout",
     "output_type": "stream",
     "text": [
      "((60000, 28, 28), (60000,)) ((10000, 28, 28), (10000,))\n"
     ]
    }
   ],
   "source": [
    "print((X_train.shape, Y_train.shape), (X_test.shape, Y_test.shape))"
   ]
  },
  {
   "cell_type": "code",
   "execution_count": 4,
   "metadata": {},
   "outputs": [],
   "source": [
    "n_inputs = X_train.shape[1]*X_train.shape[2]\n",
    "X_train = X_train.reshape((-1, n_inputs))\n",
    "Y_train = to_categorical(Y_train)\n",
    "X_test = X_test.reshape((-1, n_inputs))\n",
    "Y_test = to_categorical(Y_test)"
   ]
  },
  {
   "cell_type": "code",
   "execution_count": 5,
   "metadata": {},
   "outputs": [
    {
     "name": "stdout",
     "output_type": "stream",
     "text": [
      "(dtype('uint8'), dtype('float32')) (dtype('uint8'), dtype('float32'))\n"
     ]
    }
   ],
   "source": [
    "print((X_train.dtype, Y_train.dtype), (X_test.dtype, Y_test.dtype))"
   ]
  },
  {
   "cell_type": "code",
   "execution_count": 6,
   "metadata": {},
   "outputs": [],
   "source": [
    "# We have to change dtype of X_train and X_test to float32, and then we normalize them by dividing 255\n",
    "X_train = X_train.astype('float32') / 255\n",
    "X_test = X_test.astype('float32') / 255"
   ]
  },
  {
   "cell_type": "code",
   "execution_count": 7,
   "metadata": {},
   "outputs": [],
   "source": [
    "# Designing the model including one hidden layer with 512 neurons and one output layer with 10 neurons\n",
    "# Choosing softmax because labels in mnist are digits from 0 to 9\n",
    "Model = models.Sequential()\n",
    "Model.add(layers.Dense(512, activation = 'relu', input_shape = (n_inputs,)))\n",
    "Model.add(layers.Dense(10, activation = 'softmax'))"
   ]
  },
  {
   "cell_type": "code",
   "execution_count": 8,
   "metadata": {},
   "outputs": [],
   "source": [
    "# Compiling Model with rmsprop optimization, cross entropy, and accuracy metric\n",
    "Model.compile(optimizer = 'rmsprop', loss = 'categorical_crossentropy', metrics = ['accuracy'])"
   ]
  },
  {
   "cell_type": "code",
   "execution_count": 9,
   "metadata": {},
   "outputs": [
    {
     "name": "stdout",
     "output_type": "stream",
     "text": [
      "Epoch 1/10\n",
      "60000/60000 [==============================] - 9s 155us/step - loss: 0.2558 - acc: 0.9257\n",
      "Epoch 2/10\n",
      "60000/60000 [==============================] - 7s 111us/step - loss: 0.1016 - acc: 0.9698\n",
      "Epoch 3/10\n",
      "60000/60000 [==============================] - 7s 112us/step - loss: 0.0676 - acc: 0.9797\n",
      "Epoch 4/10\n",
      "60000/60000 [==============================] - 7s 112us/step - loss: 0.0487 - acc: 0.9854\n",
      "Epoch 5/10\n",
      "60000/60000 [==============================] - 7s 110us/step - loss: 0.0362 - acc: 0.9891\n",
      "Epoch 6/10\n",
      "60000/60000 [==============================] - 7s 111us/step - loss: 0.0279 - acc: 0.9918\n",
      "Epoch 7/10\n",
      "60000/60000 [==============================] - ETA: 0s - loss: 0.0213 - acc: 0.993 - 7s 110us/step - loss: 0.0214 - acc: 0.9935\n",
      "Epoch 8/10\n",
      "60000/60000 [==============================] - 7s 111us/step - loss: 0.0164 - acc: 0.9952\n",
      "Epoch 9/10\n",
      "60000/60000 [==============================] - 7s 116us/step - loss: 0.0130 - acc: 0.9962\n",
      "Epoch 10/10\n",
      "60000/60000 [==============================] - 7s 113us/step - loss: 0.0096 - acc: 0.9975\n"
     ]
    }
   ],
   "source": [
    "# Train model with mini batch algorithm\n",
    "fitedModel = Model.fit(X_train, Y_train, epochs = 10, batch_size = 128)"
   ]
  },
  {
   "cell_type": "code",
   "execution_count": 10,
   "metadata": {},
   "outputs": [
    {
     "data": {
      "text/plain": [
       "dict_keys(['loss', 'acc'])"
      ]
     },
     "execution_count": 10,
     "metadata": {},
     "output_type": "execute_result"
    }
   ],
   "source": [
    "history = fitedModel.history\n",
    "history.keys()"
   ]
  },
  {
   "cell_type": "code",
   "execution_count": 14,
   "metadata": {},
   "outputs": [
    {
     "data": {
      "image/png": "[encoded data removed]",
      "text/plain": [
       "<Figure size 576x288 with 2 Axes>"
      ]
     },
     "metadata": {
      "needs_background": "light"
     },
     "output_type": "display_data"
    }
   ],
   "source": [
    "acc = history['acc']\n",
    "loss = history['loss']\n",
    "Epochs = range(1, len(acc) + 1)\n",
    "fig, (ax1, ax2) = plt.subplots(1, 2, figsize=(8,4))\n",
    "fig.suptitle('Accuracy and loss')\n",
    "ax1.plot(Epochs, acc, 'bo', label = 'Accuracy')\n",
    "ax2.plot(Epochs, loss, 'bo', label = 'Loss')\n",
    "ax1.legend()\n",
    "ax2.legend()\n",
    "plt.show()"
   ]
  },
  {
   "cell_type": "code",
   "execution_count": 15,
   "metadata": {},
   "outputs": [
    {
     "name": "stdout",
     "output_type": "stream",
     "text": [
      "10000/10000 [==============================] - 1s 74us/step\n"
     ]
    }
   ],
   "source": [
    "results_test = Model.evaluate(X_test, Y_test)"
   ]
  },
  {
   "cell_type": "code",
   "execution_count": 16,
   "metadata": {},
   "outputs": [
    {
     "data": {
      "text/plain": [
       "[0.07216728715042846, 0.9818]"
      ]
     },
     "execution_count": 16,
     "metadata": {},
     "output_type": "execute_result"
    }
   ],
   "source": [
    "results_test"
   ]
  },
  {
   "cell_type": "code",
   "execution_count": 17,
   "metadata": {},
   "outputs": [],
   "source": [
    "Y_hat = Model.predict(X_test)"
   ]
  },
  {
   "cell_type": "code",
   "execution_count": 19,
   "metadata": {},
   "outputs": [
    {
     "name": "stdout",
     "output_type": "stream",
     "text": [
      "float32 float32\n"
     ]
    }
   ],
   "source": [
    "print(Y_test.dtype, Y_hat.dtype)"
   ]
  },
  {
   "cell_type": "code",
   "execution_count": 20,
   "metadata": {},
   "outputs": [
    {
     "data": {
      "text/plain": [
       "array([[ 970,    0,    1,    2,    1,    1,    1,    1,    3,    0],\n",
       "       [   0, 1124,    4,    1,    0,    0,    2,    1,    3,    0],\n",
       "       [   2,    0, 1014,    0,    1,    0,    2,    8,    4,    1],\n",
       "       [   0,    0,    6,  989,    0,    2,    0,    4,    1,    8],\n",
       "       [   0,    0,    5,    1,  956,    0,    2,    7,    0,   11],\n",
       "       [   2,    0,    0,   11,    1,  871,    2,    0,    4,    1],\n",
       "       [   4,    2,    0,    1,    3,   10,  938,    0,    0,    0],\n",
       "       [   0,    0,    6,    0,    0,    0,    0, 1019,    1,    2],\n",
       "       [   1,    0,    2,    5,    3,    2,    0,    2,  954,    5],\n",
       "       [   1,    2,    0,    6,    4,    4,    0,    7,    2,  983]],\n",
       "      dtype=int64)"
      ]
     },
     "execution_count": 20,
     "metadata": {},
     "output_type": "execute_result"
    }
   ],
   "source": [
    "confusion_matrix(Y_test.argmax(axis=1), Y_hat.argmax(axis=1))"
   ]
  },
  {
   "cell_type": "code",
   "execution_count": null,
   "metadata": {},
   "outputs": [],
   "source": [
    "# Conclusion: the model achived 99,74% for training and 98.03% for testing, so it is very good for classifying mnist data.\n",
    "# WE don't nee validation set because we believe that this data is not be affected by time. "
   ]
  }
 ],
 "metadata": {
  "kernelspec": {
   "display_name": "Python 3",
   "language": "python",
   "name": "python3"
  },
  "language_info": {
   "codemirror_mode": {
    "name": "ipython",
    "version": 3
   },
   "file_extension": ".py",
   "mimetype": "text/x-python",
   "name": "python",
   "nbconvert_exporter": "python",
   "pygments_lexer": "ipython3",
   "version": "3.6.8"
  }
 },
 "nbformat": 4,
 "nbformat_minor": 2
}
